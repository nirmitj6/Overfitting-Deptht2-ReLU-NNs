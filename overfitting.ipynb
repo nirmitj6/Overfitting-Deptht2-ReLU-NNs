{
  "cells": [
    {
      "cell_type": "markdown",
      "id": "c0af21cd-a2bc-4708-9f25-447b68ddd3a5",
      "metadata": {
        "id": "c0af21cd-a2bc-4708-9f25-447b68ddd3a5"
      },
      "source": [
        "# Preamble"
      ]
    },
    {
      "cell_type": "code",
      "execution_count": 1,
      "id": "c126ea6d-4e81-4e6a-b34d-25574715c68d",
      "metadata": {
        "id": "c126ea6d-4e81-4e6a-b34d-25574715c68d"
      },
      "outputs": [],
      "source": [
        "%matplotlib inline"
      ]
    },
    {
      "cell_type": "code",
      "execution_count": 2,
      "id": "d3MNBbEw0LwM",
      "metadata": {
        "colab": {
          "base_uri": "https://localhost:8080/"
        },
        "id": "d3MNBbEw0LwM",
        "outputId": "6f6eb419-c368-4dee-c155-525c465eb458"
      },
      "outputs": [
        {
          "name": "stdout",
          "output_type": "stream",
          "text": [
            "Defaulting to user installation because normal site-packages is not writeable\n",
            "Requirement already satisfied: imageio in /Library/Frameworks/Python.framework/Versions/3.10/lib/python3.10/site-packages (2.28.1)\n",
            "Requirement already satisfied: numpy in /Library/Frameworks/Python.framework/Versions/3.10/lib/python3.10/site-packages (from imageio) (1.24.2)\n",
            "Requirement already satisfied: pillow>=8.3.2 in /Library/Frameworks/Python.framework/Versions/3.10/lib/python3.10/site-packages (from imageio) (9.3.0)\n"
          ]
        }
      ],
      "source": [
        "! pip install imageio"
      ]
    },
    {
      "cell_type": "code",
      "execution_count": 3,
      "id": "db02a016-db7d-467a-8282-4ab07fa98693",
      "metadata": {
        "id": "db02a016-db7d-467a-8282-4ab07fa98693"
      },
      "outputs": [],
      "source": [
        "import torch\n",
        "from torch.autograd import Variable\n",
        "import torch.nn.functional as F\n",
        "import torch.utils.data as Data\n",
        "\n",
        "import operator\n",
        "import collections\n",
        "\n",
        "import matplotlib.pyplot as plt\n",
        "from matplotlib import patches\n",
        "import matplotlib.animation as animation\n",
        "from matplotlib.transforms import ScaledTranslation\n",
        "\n",
        "import numpy as np\n",
        "import imageio\n",
        "from tqdm import tqdm"
      ]
    },
    {
      "cell_type": "code",
      "execution_count": 5,
      "id": "8534ac3e-2218-41e1-8e09-ca2a268e4644",
      "metadata": {
        "id": "8534ac3e-2218-41e1-8e09-ca2a268e4644"
      },
      "outputs": [],
      "source": [
        "def rotate_point(x, y, angle_deg):\n",
        "    cos,sin = np.cos(angle_deg*np.pi/180),np.sin(angle_deg*np.pi/180)\n",
        "    return cos*x-sin*y,sin*x+cos*y\n",
        "\n",
        "def draw_brace(ax, span, position, text, text_pos, brace_scale=1.0, beta_scale=300., rotate=False,\n",
        "               rotate_text=False, color='black', fontsize=16, linewidth=1.):\n",
        "    '''\n",
        "        all positions and sizes are in axes units\n",
        "        span: size of the curl\n",
        "        position: placement of the tip of the curl\n",
        "        text: label to place somewhere\n",
        "        text_pos: position for the label\n",
        "        beta_scale: scaling for the curl, higher makes a smaller radius\n",
        "        rotate: anngle of rotation for the curl\n",
        "        rotate_text: angle of rotation for the text\n",
        "    '''\n",
        "    # get the total width to help scale the figure\n",
        "    ax_xmin, ax_xmax = ax.get_xlim()\n",
        "    xax_span = ax_xmax - ax_xmin\n",
        "    resolution = int(span/xax_span*100)*2+1 # guaranteed uneven\n",
        "    beta = beta_scale/xax_span # the higher this is, the smaller the radius\n",
        "    # center the shape at (0, 0)\n",
        "    x = np.linspace(-span/2., span/2., resolution)\n",
        "    # calculate the shape\n",
        "    x_half = x[:int(resolution/2)+1]\n",
        "    y_half_brace = (1/(1.+np.exp(-beta*(x_half-x_half[0])))\n",
        "                + 1/(1.+np.exp(-beta*(x_half-x_half[-1]))))\n",
        "    y = np.concatenate((y_half_brace, y_half_brace[-2::-1]))\n",
        "    # put the tip of the curl at (0, 0)\n",
        "    max_y = np.max(y)\n",
        "    min_y = np.min(y)\n",
        "    y /= (max_y-min_y)\n",
        "    y *= brace_scale\n",
        "    y -= max_y\n",
        "    # rotate the trace before shifting\n",
        "    x,y = rotate_point(x, y, rotate)\n",
        "    # shift to the user's spot\n",
        "    x += position[0]\n",
        "    y += position[1]\n",
        "    ax.autoscale(False)\n",
        "    ax.plot(x, y, clip_on=False, color=color, lw=linewidth)\n",
        "    # put the text\n",
        "    ax.text(text_pos[0], text_pos[1], text, ha='center', va='bottom', rotation=rotate_text, color=color, fontsize=fontsize)"
      ]
    },
    {
      "cell_type": "code",
      "execution_count": 6,
      "id": "1c9591bc-44f9-4b7e-8887-dd2dcb95c39b",
      "metadata": {
        "id": "1c9591bc-44f9-4b7e-8887-dd2dcb95c39b"
      },
      "outputs": [],
      "source": [
        "def draw_unfinished_brace(ax, span, position, text, text_pos, brace_scale=1.0, beta_scale=300., rotate=False,\n",
        "               rotate_text=False, color='black', fontsize=16, linewidth=1., extra_dash=0.1):\n",
        "    '''\n",
        "        all positions and sizes are in axes units\n",
        "        span: size of the curl\n",
        "        position: placement of the tip of the curl\n",
        "        text: label to place somewhere\n",
        "        text_pos: position for the label\n",
        "        beta_scale: scaling for the curl, higher makes a smaller radius\n",
        "        rotate: anngle of rotation for the curl\n",
        "        rotate_text: angle of rotation for the text\n",
        "    '''\n",
        "    # get the total width to help scale the figure\n",
        "    ax_xmin, ax_xmax = ax.get_xlim()\n",
        "    xax_span = ax_xmax - ax_xmin\n",
        "    resolution = int(span/xax_span*100)*2+1 # guaranteed uneven\n",
        "    beta = beta_scale/xax_span # the higher this is, the smaller the radius\n",
        "    # center the shape at (0, 0)\n",
        "    x = np.linspace(-span/2., span/2., resolution)\n",
        "    x_extended = np.linspace(-span*(0.5+extra_dash), span*0.5, (int)((1+extra_dash)*resolution))\n",
        "    # calculate the shape\n",
        "    x_half = x[:int(resolution/2)+1]\n",
        "    y_half_brace = (1/(1.+np.exp(-beta*(x_half-x_half[0])))\n",
        "                + 1/(1.+np.exp(-beta*(x_half-x_half[-1]))))\n",
        "    remove = int(0.2*len(x))\n",
        "    y_extended = np.concatenate((y_half_brace[remove:], y_half_brace[-2::-1]))\n",
        "    extra_length = len(x_extended)-len(y_extended)\n",
        "    y_extended = np.concatenate((y_extended[0]*np.ones(extra_length), y_extended))\n",
        "    # put the tip of the curl at (0, 0)\n",
        "    max_y = np.max(y_extended)\n",
        "    min_y = np.min(y_extended)\n",
        "    y_extended /= (max_y-min_y)\n",
        "    y_extended *= brace_scale\n",
        "    y_extended -= max_y\n",
        "    # rotate the trace before shifting\n",
        "    x_extended,y_extended = rotate_point(x_extended, y_extended, rotate)\n",
        "    # shift to the user's spot\n",
        "    x_extended += position[0]\n",
        "    y_extended += position[1]\n",
        "    ax.autoscale(False)\n",
        "    dashed_length = len(x_extended)-resolution\n",
        "    ax.plot(x_extended[dashed_length:], y_extended[dashed_length:], clip_on=False, color=color, lw=linewidth)\n",
        "    ax.plot(x_extended[:dashed_length], y_extended[:dashed_length], clip_on=False, color=color, lw=linewidth, linestyle=(0, (5, 5)))\n",
        "    # put the text\n",
        "    ax.text(text_pos[0], text_pos[1], text, ha='center', va='bottom', rotation=rotate_text, color=color, fontsize=fontsize)"
      ]
    },
    {
      "cell_type": "markdown",
      "id": "2e8dc193-0f82-47f2-b43d-357276cda3be",
      "metadata": {
        "id": "2e8dc193-0f82-47f2-b43d-357276cda3be"
      },
      "source": [
        "# Network architecture"
      ]
    },
    {
      "cell_type": "code",
      "execution_count": 7,
      "id": "65f4780d-8501-434a-8f90-ab9cf62bf90f",
      "metadata": {
        "id": "65f4780d-8501-434a-8f90-ab9cf62bf90f"
      },
      "outputs": [],
      "source": [
        "class Net(torch.nn.Module):\n",
        "    \"\"\"\n",
        "    1 hidden layer Relu network architecture\n",
        "    \"\"\"\n",
        "    def __init__(self, n_hidden, n_feature=1, n_output=1, bias_hidden=True, skip_connection=True, **kwargs):\n",
        "        \"\"\"\n",
        "        n_hidden: number of hidden neurons\n",
        "        n_feature: dimension of input\n",
        "        n_output: dimension of output\n",
        "        bias_hidden: if True, use bias parameters in hidden layer. Use no bias otherwise\n",
        "        skip_connection: if True, add a (free) affine term in the represented function\n",
        "        \"\"\"\n",
        "        super(Net, self).__init__()\n",
        "        self.bias_hidden_ = bias_hidden\n",
        "\n",
        "        self.skip_ = skip_connection\n",
        "\n",
        "        self.hidden = torch.nn.Linear(n_feature, n_hidden, bias=bias_hidden)   # hidden layer\n",
        "        self.predict = torch.nn.Linear(n_hidden, n_output, bias=False)   # output layer\n",
        "        self.activation = kwargs.get('activation', torch.nn.ReLU()) # activation of hidden layer\n",
        "        if self.skip_:\n",
        "            self.skip = torch.nn.Linear(n_feature, n_output, bias=True)   # affine term\n",
        "\n",
        "    def forward(self, z):\n",
        "        z1 = self.activation(self.hidden(z))\n",
        "        z1 = self.predict(z1)\n",
        "        if self.skip_:\n",
        "            z1 += self.skip(z)\n",
        "        return z1\n",
        "\n",
        "    def weight_norm(self, bias=True):\n",
        "        \"\"\"\n",
        "        Return the total squared L2 norm of the parameters\n",
        "        bias: if True, count the bias weight in the L2 norm\n",
        "        \"\"\"\n",
        "        if bias:\n",
        "            sq_hidden_norms = (self.hidden.weight.data.norm(dim=1).square()+self.hidden.bias.data.square()).sum()\n",
        "        else:\n",
        "            sq_hidden_norms = self.hidden.weight.data.norm(dim=1).square().sum()\n",
        "        sq_output_norms = self.predict.weight.data.square().sum()\n",
        "        return (sq_hidden_norms+sq_output_norms)/2\n",
        "\n",
        "    def balance(self, bias=True):\n",
        "        \"\"\"\n",
        "        make the weights of the hidden and output layer balanced (useful to minimise the L2 norm of the parameters)\n",
        "        bias: if True, count the bias weight in the L2 norm\n",
        "        \"\"\"\n",
        "        if bias:\n",
        "            hidden_norms = (self.hidden.weight.data.norm(dim=1).square()+self.hidden.bias.data.square()).sqrt().reshape(1,-1)\n",
        "        else:\n",
        "            hidden_norms = (self.hidden.weight.data.norm(dim=1).square()).sqrt().reshape(1,-1)\n",
        "        output_norms = self.predict.weight.data.abs()\n",
        "\n",
        "        #avoid division by 0\n",
        "        hidden_norms[hidden_norms==0] = 1\n",
        "        output_norms[output_norms==0] = 1\n",
        "\n",
        "        c = (output_norms/hidden_norms).sqrt()\n",
        "        self.hidden.weight.data *= c.T\n",
        "        if self.bias_hidden_:\n",
        "            self.hidden.bias.data *= c.reshape(-1)\n",
        "        self.predict.weight.data /= c.reshape(-1)"
      ]
    },
    {
      "cell_type": "markdown",
      "id": "51b8c50a-b9a4-4acf-b8ea-3365f45fd817",
      "metadata": {
        "id": "51b8c50a-b9a4-4acf-b8ea-3365f45fd817"
      },
      "source": [
        "# Generating data"
      ]
    },
    {
      "cell_type": "code",
      "execution_count": 8,
      "id": "a399fd14-1fd7-4878-b332-7df78aa3093f",
      "metadata": {
        "id": "a399fd14-1fd7-4878-b332-7df78aa3093f"
      },
      "outputs": [],
      "source": [
        "def generate_convex_sequence(npoints, x0=None, delta0=None, xmaxdiff=1, deltamaxdiff=1, xmindiff=0, deltamindiff=0):\n",
        "    \"\"\"\n",
        "    return a sequence of points (x_i, delta_i) such that the piecewise linear interpolation\n",
        "    is convex on the whole interval (x_min, x_max).\n",
        "    The delta_i give the slope of the piecewise linear interpolation on the interval (x_i, x_{i+1})\n",
        "    It does so by generating increments of x and delta as unfiorm random variables.\n",
        "    xmaxdiff: max range of x increments\n",
        "    xmindiff: min range of x increments\n",
        "    x0: fix first value of x. If None, choose one uniformly at random in (-1,1)\n",
        "    deltamaxdiff: max range of delta increments\n",
        "    deltamindiff: min range of delta increments\n",
        "    delta0: fix first value of delta. If None, choose one uniformly at random in (-1,1)\n",
        "    \"\"\"\n",
        "\n",
        "    if x0 is None:\n",
        "        x0 = np.random.uniform(low=-1,high=1)\n",
        "    x = x0*np.ones(npoints)\n",
        "    xincr = np.random.uniform(low=xmindiff, high=xmaxdiff, size=npoints-1)\n",
        "    x[1:]+=xincr.cumsum()\n",
        "\n",
        "\n",
        "    if delta0 is None:\n",
        "        delta0 = np.random.uniform(low=-1,high=1)\n",
        "    delta = delta0*np.ones(npoints-1)\n",
        "    deltaincr = np.random.uniform(low=deltamindiff, high=deltamaxdiff, size=npoints-2)\n",
        "    delta[1:]+=deltaincr.cumsum()\n",
        "\n",
        "    return x,delta\n",
        "\n",
        "def deltas_to_ys(x,delta,y0=0):\n",
        "    \"\"\"\n",
        "    return a sequence of points y_i such that the sequence (coordinates,values) = (x,y)\n",
        "    corresponds to the sequence (coordinate, slope) = (x, delta).\n",
        "    y0: value of the first y.\n",
        "    \"\"\"\n",
        "    y = y0*np.ones(len(x))\n",
        "    yincr = delta*(x[1:]-x[:-1])\n",
        "    y[1:] += np.cumsum(yincr)\n",
        "    return y"
      ]
    },
    {
      "cell_type": "markdown",
      "id": "2911df0c-9ba2-4da1-9035-f3e73a394a85",
      "metadata": {
        "id": "2911df0c-9ba2-4da1-9035-f3e73a394a85"
      },
      "source": [
        "# Solving min norm interpolator"
      ]
    },
    {
      "cell_type": "code",
      "execution_count": 9,
      "id": "e5e0bac3-e234-451e-9273-eb765b3e7834",
      "metadata": {
        "id": "e5e0bac3-e234-451e-9273-eb765b3e7834"
      },
      "outputs": [],
      "source": [
        "def g(x1,x0,delta):\n",
        "    return lambda s1,s0 : np.sqrt((x1*(s1.reshape(-1,1)-delta)-x0*(s0.reshape(1,-1)-delta))**2+(s1.reshape(-1,1)-s0.reshape(1,-1))**2)"
      ]
    },
    {
      "cell_type": "code",
      "execution_count": 10,
      "id": "330461a4-7d2d-40f0-919a-823bee5a7aa5",
      "metadata": {
        "id": "330461a4-7d2d-40f0-919a-823bee5a7aa5"
      },
      "outputs": [],
      "source": [
        "def min_norm_interpolator(x, delta, grid_size=10^10, return_cost=False):\n",
        "    \"\"\"\n",
        "    Given the (coordinates, slopes) sequence (x,delta), return the sequence of slope (s_i) minimising the dynamic program.\n",
        "    Since the dynamic program is continuous, we approximate it by discretising the intervals (delta_i,delta_{i+1})\n",
        "    grid_size: number of points in the discretisation of (delta_i,delta_{i+1}) at each iteration\n",
        "    return_cost: if True, also return the approximations of c_i as a matrix as well as the total cost of the associated interpolator\n",
        "    \"\"\"\n",
        "    n = len(x)\n",
        "    i0 = np.searchsorted(x, 0, side='right', sorter=None)\n",
        "    cost = np.zeros((n, grid_size))\n",
        "\n",
        "    slope = np.zeros((n, grid_size), dtype=int) # argmin associated to the costs c_i\n",
        "\n",
        "    grid = np.zeros((n, grid_size))\n",
        "    grid[0,:] = delta[0]\n",
        "    grid[-1,:] = delta[-1]\n",
        "\n",
        "    for i in range(1,n-1):\n",
        "        if (i>=2) and (np.sign(delta[i]-delta[i-1])*np.sign(delta[i-2]-delta[i-1])>=0):\n",
        "            grid[i,:] = delta[i-1]\n",
        "        else:\n",
        "            grid[i,:] = np.linspace(delta[i-1],delta[i],grid_size)\n",
        "\n",
        "    for i in range(0,i0-1):\n",
        "        #compute c^-_{i+1}\n",
        "        s0 = grid[i,:]\n",
        "        s1 = grid[i+1,:]\n",
        "        g1 = g(x[i+1],x[i],delta[i])\n",
        "        cost[i+1,:] = np.min(g1(s1,s0)+cost[i,:].reshape(1,-1),axis=1)\n",
        "        slope[i+1,:] = np.argmin(g1(s1,s0)+cost[i,:].reshape(1,-1),axis=1)\n",
        "\n",
        "        # handle the case s_i = delta_i\n",
        "        k1 = np.min((np.searchsorted(grid[i,:],delta[i]),grid_size-1))\n",
        "        k2 = np.min((np.searchsorted(grid[i+1,:],delta[i]),grid_size-1))\n",
        "        cost[i+1,k2] = cost[i,k1]\n",
        "        slope[i+1,k2] = k1\n",
        "\n",
        "    for j in range(1,n-i0):\n",
        "        # compute c^+_i\n",
        "        i = n-j-1\n",
        "        s0 = grid[i,:]\n",
        "        s1 = grid[i+1,:]\n",
        "        g1 = g(x[i+1],x[i],delta[i])\n",
        "        cost[i,:] = np.min(g1(s1,s0)+cost[i+1,:].reshape(-1,1),axis=0)\n",
        "        slope[i,:] = np.argmin(g1(s1,s0)+cost[i+1,:].reshape(-1,1),axis=0)\n",
        "\n",
        "        # handle the case s_i = delta_i\n",
        "        k1 = np.min((np.searchsorted(grid[i,:],delta[i]),grid_size-1))\n",
        "        k2 = np.min((np.searchsorted(grid[i+1,:],delta[i]),grid_size-1))\n",
        "        cost[i,k1] = cost[i+1,k2]\n",
        "        slope[i,k1] = k2\n",
        "\n",
        "    s_index = np.zeros(n, dtype=int) # minimal sequence of slopes as indices\n",
        "\n",
        "    #compute optimal slopes at x_{i0-1} and x_{i0}\n",
        "    if (i0>0 and i0<n):\n",
        "        i = i0-1\n",
        "        s0 = grid[i,:]\n",
        "        s1 = grid[i+1,:]\n",
        "        g1 = g(x[i+1],x[i],delta[i])\n",
        "        Z = g1(s1,s0)+cost[i+1,:].reshape(-1,1)+cost[i,:].reshape(1,-1)\n",
        "        c = np.min(Z)\n",
        "        k1,k0 = np.unravel_index(np.argmin(Z, axis=None), Z.shape)\n",
        "        s_index[i0] = k1\n",
        "        s_index[i0-1] = k0\n",
        "    elif i0==0:\n",
        "        s_index[i0]=0\n",
        "        c = np.min(cost[0,:])\n",
        "    else: #i0==n\n",
        "        s_index[i0-1]=0\n",
        "        c = np.min(cost[i0-1,:])\n",
        "\n",
        "    for j in range(1,i0):\n",
        "        i=i0-j-1\n",
        "        s_index[i]=slope[i+1,s_index[i+1]]\n",
        "    for i in range(i0,n-1):\n",
        "        s_index[i+1]=slope[i,s_index[i]]\n",
        "\n",
        "    s = np.zeros(n) # minimal sequence of slopes\n",
        "    for i in range(0,n):\n",
        "        s[i] = grid[i,s_index[i]]\n",
        "\n",
        "    if return_cost:\n",
        "        return s,cost,c\n",
        "    else:\n",
        "        return s"
      ]
    },
    {
      "cell_type": "code",
      "execution_count": 11,
      "id": "53556c03-b6ea-4b4c-932c-30b11e43b8f9",
      "metadata": {
        "id": "53556c03-b6ea-4b4c-932c-30b11e43b8f9"
      },
      "outputs": [],
      "source": [
        "def slopes_to_network(x, y, s, balanced=True):\n",
        "    \"\"\"\n",
        "    From an appropriate sequence of slopes s, return a corresponding neural network\n",
        "    interpolating the data (x,y).\n",
        "    We use for this the mapping given in the Appendix.\n",
        "    balanced: if True, return a balanced network\n",
        "    \"\"\"\n",
        "    n = len(x)\n",
        "    net = Net(n-1)\n",
        "    for w in net.parameters(): # set all weights to 0\n",
        "        torch.nn.init.zeros_(w.data)\n",
        "\n",
        "    # affine term\n",
        "    net.skip.weight.data[0,0] = s[0]\n",
        "    net.skip.bias.data[0]=y[0]-s[0]*x[0]\n",
        "\n",
        "    #ReLU terms\n",
        "    torch.nn.init.ones_(net.hidden.weight.data)\n",
        "    for i in range(0,n-1):\n",
        "        # a_i\n",
        "        net.predict.weight.data[0,i] = s[i+1]-s[i]\n",
        "        # tau_i\n",
        "        if (s[i+1]!=s[i]):\n",
        "            net.hidden.bias.data[i] = -x[i+1]+(y[i+1]-y[i]-s[i]*(x[i+1]-x[i]))/(s[i+1]-s[i])\n",
        "        else:\n",
        "            net.hidden.weight.data[i] = 0\n",
        "\n",
        "\n",
        "    if balanced:\n",
        "        net.balance()\n",
        "\n",
        "    return net"
      ]
    },
    {
      "cell_type": "markdown",
      "id": "qIo01h9sqhhz",
      "metadata": {
        "id": "qIo01h9sqhhz"
      },
      "source": [
        "Different Risk Measures Comparison"
      ]
    },
    {
      "cell_type": "markdown",
      "id": "dU_GAtyhtiAA",
      "metadata": {
        "id": "dU_GAtyhtiAA"
      },
      "source": [
        "In the below, we measure the L1 and L3 risk over 100 trials of random sapling of 2000 points and measure the L1, L2, L3 and L_infty losses"
      ]
    },
    {
      "cell_type": "code",
      "execution_count": 12,
      "id": "xuuSOY83sO-0",
      "metadata": {
        "id": "xuuSOY83sO-0"
      },
      "outputs": [],
      "source": [
        "np.random.seed(1)\n",
        "xtest=np.random.rand(10000)\n",
        "ztest = torch.Tensor(xtest).reshape(-1,1)"
      ]
    },
    {
      "cell_type": "code",
      "execution_count": 13,
      "id": "URSEmh1ptk_a",
      "metadata": {
        "colab": {
          "base_uri": "https://localhost:8080/",
          "height": 316
        },
        "id": "URSEmh1ptk_a",
        "outputId": "382d9d91-25f5-40fe-ec24-09a046eb81fd"
      },
      "outputs": [],
      "source": [
        "np.random.seed(3)\n",
        "n=2000\n",
        "N=100\n",
        "xtest=np.random.rand(10000)\n",
        "ztest = torch.Tensor(xtest).reshape(-1,1)\n",
        "#y=net1(z).data.numpy()\n",
        "\n",
        "L1risk=np.zeros(N)\n",
        "L2risk=np.zeros(N)\n",
        "L3risk=np.zeros(N)\n",
        "Linfty=np.zeros(N)\n",
        "for j in range(0,N):\n",
        "  xten=np.random.rand(n)\n",
        "  xten=np.sort(xten)\n",
        "  yten=np.random.uniform(-2,2,n)\n",
        "  deltaten=np.zeros(n-1)\n",
        "  for i in range(0,n-1):\n",
        "    deltaten[i]=(yten[i+1]-yten[i])/(xten[i+1]-xten[i])\n",
        "\n",
        "  sten,cost,c = min_norm_interpolator(xten,deltaten,return_cost=True, grid_size=300)\n",
        "  #print(s)\n",
        "  netten = slopes_to_network(xten, yten, sten, balanced=False)\n",
        "  ytest=netten(ztest).detach().numpy()\n",
        "  ytest=np.absolute(ytest)\n",
        "  L1risk[j] = np.sum(ytest, dtype=np.float64)/10000\n",
        "  sumsquare=np.sum(np.square(ytest),dtype=np.float64)/10000\n",
        "  L2risk[j]=sumsquare**0.5\n",
        "  sumcube=np.sum(np.power(ytest,3),dtype=np.float64)/10000\n",
        "  L3risk[j]=sumcube**0.33\n",
        "  Linfty[j]=np.max(ytest)\n"
      ]
    },
    {
      "cell_type": "code",
      "execution_count": 14,
      "id": "d231f56f",
      "metadata": {},
      "outputs": [],
      "source": [
        "L1risk=np.sort(L1risk)\n",
        "L2risk=np.sort(L2risk)\n",
        "L3risk=np.sort(L3risk)\n",
        "Linfty=np.sort(Linfty)"
      ]
    },
    {
      "cell_type": "code",
      "execution_count": 15,
      "id": "30d5c90f",
      "metadata": {},
      "outputs": [
        {
          "name": "stdout",
          "output_type": "stream",
          "text": [
            "L1 risk=1.6155532569422684\n",
            "L2 risk=3.244514823879848\n",
            "L3 risk=6.3596295141779855\n",
            "Linf risk=69.4132586479187\n"
          ]
        }
      ],
      "source": [
        "print(f'L1 risk={np.sum(L1risk)/100}')\n",
        "print(f'L2 risk={np.sum(L2risk)/100}')\n",
        "print(f'L3 risk={np.sum(L3risk)/100}')\n",
        "print(f'Linf risk={np.sum(Linfty)/100}')"
      ]
    },
    {
      "cell_type": "markdown",
      "id": "7168c9ee-48dd-497b-b147-3f5695a5ab1a",
      "metadata": {
        "id": "7168c9ee-48dd-497b-b147-3f5695a5ab1a"
      },
      "source": [
        "The following code generates 30 random points from a certain groud-truth function and compares min-norm interpolator and linear splies"
      ]
    },
    {
      "cell_type": "code",
      "execution_count": 16,
      "id": "0e115e66-60cd-4b7c-a53a-cb0d5fcdaac9",
      "metadata": {
        "colab": {
          "base_uri": "https://localhost:8080/"
        },
        "id": "0e115e66-60cd-4b7c-a53a-cb0d5fcdaac9",
        "outputId": "e613d73e-53f9-4d16-8a4d-2d61ec792feb"
      },
      "outputs": [
        {
          "name": "stdout",
          "output_type": "stream",
          "text": [
            "[-1.2881726  -0.46522554  0.25356806  0.25356806  0.25356806  0.76367726\n",
            "  1.67998718  2.56906556  1.95933015  1.01846736]\n"
          ]
        }
      ],
      "source": [
        "np.random.seed(0)\n",
        "n_list = [3, 2, 3, 3]\n",
        "sign_list = [1, 0, 1, -1]\n",
        "xminincr,xmaxincr = 0.2,1\n",
        "dminincr,dmaxincr = 0.5,1\n",
        "last_n = 0\n",
        "delta0 = -2\n",
        "x0 = -4\n",
        "\n",
        "n_points = np.sum(n_list)\n",
        "x = np.zeros(n_points)\n",
        "delta = np.zeros(n_points-1)\n",
        "\n",
        "for i in range(len(n_list)):\n",
        "    incr = n_list[i]\n",
        "    n = incr + last_n\n",
        "    s = sign_list[i]\n",
        "    if s==1:\n",
        "        (x_n,delta_n) = generate_convex_sequence(incr+2,xmindiff=xminincr,xmaxdiff=xmaxincr,x0=x0,deltamindiff=dminincr,deltamaxdiff=dmaxincr,delta0=delta0)\n",
        "    elif s==-1:\n",
        "        (x_n,delta_n) = generate_convex_sequence(incr+2,xmindiff=xminincr,xmaxdiff=xmaxincr,x0=x0,deltamindiff=-dmaxincr,deltamaxdiff=-dminincr,delta0=delta0)\n",
        "    elif s==0:\n",
        "        (x_n,delta_n) = generate_convex_sequence(incr+2,xmindiff=xminincr,xmaxdiff=xmaxincr,x0=x0,deltamindiff=0,deltamaxdiff=0,delta0=delta0)\n",
        "    x[last_n:n] = x_n[1:-1]\n",
        "    if n==n_points:\n",
        "        delta[last_n:n-1] = delta_n[1:-1]\n",
        "    else:\n",
        "        delta[last_n:n] = delta_n[1:]\n",
        "    x0 = x_n[-2]\n",
        "    delta0 = delta_n[-1]\n",
        "    last_n = n\n",
        "\n",
        "y = deltas_to_ys(x,delta)\n",
        "print(delta)"
      ]
    },
    {
      "cell_type": "code",
      "execution_count": 17,
      "id": "LoO5Y8Yuqo8Z",
      "metadata": {
        "colab": {
          "base_uri": "https://localhost:8080/",
          "height": 402
        },
        "id": "LoO5Y8Yuqo8Z",
        "outputId": "3056c3f1-113c-4dd7-cb79-25d87462496a"
      },
      "outputs": [
        {
          "name": "stdout",
          "output_type": "stream",
          "text": [
            "30\n",
            "30\n"
          ]
        },
        {
          "data": {
            "image/png": "[encoded data removed]",
            "text/plain": [
              "<Figure size 1000x400 with 1 Axes>"
            ]
          },
          "metadata": {},
          "output_type": "display_data"
        }
      ],
      "source": [
        "import math\n",
        "np.random.seed(9)\n",
        "n=30\n",
        "\n",
        "def f1(x):\n",
        "   return np.sin(10*x+1) + (10*x+1) + (10*x+1) * np.sin(10*x+1)\n",
        "\n",
        "xten=np.random.rand(n)\n",
        "xten=np.sort(xten)\n",
        "#print(xten)\n",
        "yten=np.random.normal(0,5,n)\n",
        "for i in range(0,n-1):\n",
        "    yten[i]=yten[i]+ f1(xten[i])\n",
        "#print(yten)\n",
        "deltaten=np.zeros(n-1)\n",
        "for i in range(0,n-1):\n",
        "    deltaten[i]=(yten[i+1]-yten[i])/(xten[i+1]-xten[i])\n",
        "\n",
        "sten,cost,c = min_norm_interpolator(xten,deltaten,return_cost=True, grid_size=2000)\n",
        "#print(s)\n",
        "netten = slopes_to_network(xten, yten, sten, balanced=False)\n",
        "\n",
        "deltanew=np.zeros(n)\n",
        "for i in range(0,n):\n",
        "  if i==0:\n",
        "    deltanew[i]=delta[0]\n",
        "  else:\n",
        "    deltanew[i]=deltaten[i-1]\n",
        "\n",
        "print(np.size(sten))\n",
        "print(np.size(deltanew))\n",
        "netsplines = slopes_to_network(xten, yten, deltanew, balanced=False)\n",
        "\n",
        "\n",
        "z = torch.Tensor(np.linspace(xten[0]-0.1,xten[-1]+0.1,200).reshape(-1,1))\n",
        "# view data\n",
        "plt.figure(figsize=(10,4))\n",
        "plt.scatter(xten, yten, color = \"tab:red\")\n",
        "\n",
        "plt.plot(z.data.numpy(), netten(z).data.numpy(), color = \"tab:green\", label=\"Min Norm Interpolator\")\n",
        "plt.plot(z.data.numpy(), netsplines(z).data.numpy(), color = \"tab:purple\", label=\"Linear Splines\")\n",
        "xall = np.linspace(0, 1, 100)\n",
        "plt.plot(xall, f1(xall), color='blue', label=\"ground-truth\")\n",
        "plt.legend()\n",
        "plt.savefig('large_points.svg')\n",
        "plt.show()"
      ]
    },
    {
      "cell_type": "code",
      "execution_count": 18,
      "id": "88EfYgV_lh-G",
      "metadata": {
        "id": "88EfYgV_lh-G"
      },
      "outputs": [],
      "source": [
        "delta = np.array([10, 5.63, 3.1,  -1.07712721,  -10.2695455, -7.5455, 1.0, 10.0000])\n",
        "x = np.array([0.07,0.12,0.2,0.35,0.42,0.59,0.65,0.8,0.95])\n",
        "y = deltas_to_ys(x,delta)"
      ]
    },
    {
      "cell_type": "code",
      "execution_count": 19,
      "id": "5872c02a-05a8-44ff-81d2-45e9f6fdb6ea",
      "metadata": {
        "id": "5872c02a-05a8-44ff-81d2-45e9f6fdb6ea"
      },
      "outputs": [],
      "source": [
        "s,cost,c = min_norm_interpolator(x,delta,return_cost=True, grid_size=100)\n",
        "#print(s)\n",
        "net = slopes_to_network(x, y, s, balanced=False)"
      ]
    },
    {
      "cell_type": "code",
      "execution_count": 20,
      "id": "k19uin-1cVxy",
      "metadata": {
        "id": "k19uin-1cVxy"
      },
      "outputs": [],
      "source": [
        "deltaspline = np.array([10, 5.63, 3.1,  -1.07712721,  -10.2695455, -7.5455, 1.0, 10.00000,0])\n",
        "xspline = np.array([0.07,0.12,0.2,0.35,0.42,0.59,0.65,0.8,0.95,1])\n",
        "yspline = deltas_to_ys(xspline,deltaspline)\n",
        "sspline=np.array([0,10, 5.63, 3.1,  -1.07712721,  -10.2695455, -7.5455, 1.0, 10.00000,0])\n",
        "net_spline=slopes_to_network(xspline,yspline, sspline, balanced=False)"
      ]
    },
    {
      "cell_type": "code",
      "execution_count": 21,
      "id": "19y2Vn6lewIP",
      "metadata": {
        "id": "19y2Vn6lewIP"
      },
      "outputs": [],
      "source": [
        "s1= [5.0, 5.0, 2.3483259, -1.07712721,  -1.07712721,  -7.2695455, -3.5455, 1.0, 10.0000,0.0]\n",
        "net1=slopes_to_network(x,y, s1, balanced=False)"
      ]
    },
    {
      "cell_type": "code",
      "execution_count": 22,
      "id": "a04df6f4-8d20-4506-99fd-3ebebc35720b",
      "metadata": {
        "colab": {
          "base_uri": "https://localhost:8080/",
          "height": 392
        },
        "id": "a04df6f4-8d20-4506-99fd-3ebebc35720b",
        "outputId": "69f7fb68-7367-4603-d3b0-5f5ca1f9a803"
      },
      "outputs": [
        {
          "data": {
            "image/png": "[encoded data removed]",
            "text/plain": [
              "<Figure size 1000x400 with 1 Axes>"
            ]
          },
          "metadata": {},
          "output_type": "display_data"
        }
      ],
      "source": [
        "z = torch.Tensor(np.linspace(0,1,200).reshape(-1,1))\n",
        "# view data\n",
        "plt.figure(figsize=(10,4))\n",
        "plt.scatter(x, y, color = \"tab:red\")\n",
        "plt.plot(z.data.numpy(), net(z).data.numpy(), color = \"tab:green\", label=\"Min norm interpolator\")\n",
        "plt.plot(z.data.numpy(), net_spline(z).data.numpy(),'--' ,color = \"tab:purple\", label=\"Linear spline\")\n",
        "#plt.plot(z.data.numpy(), net1(z).data.numpy(),'--' ,color = \"tab:red\", label=\"Min norm (unregularized bias)\")\n",
        "plt.grid(alpha=0.2)\n",
        "plt.xlabel(r'$x$', labelpad=0, fontsize=18)\n",
        "plt.ylabel(r'$y$', labelpad=0, fontsize=18)\n",
        "plt.legend(prop = {'size':8}, fontsize=18)\n",
        "plt.savefig('small-example.pdf')\n",
        "plt.show()"
      ]
    },
    {
      "cell_type": "code",
      "execution_count": 23,
      "id": "9b3f971e-72c9-43df-8c01-5ee0dd0db2f5",
      "metadata": {
        "colab": {
          "base_uri": "https://localhost:8080/"
        },
        "id": "9b3f971e-72c9-43df-8c01-5ee0dd0db2f5",
        "outputId": "97c6bde2-3a25-4488-e574-b70c3cf10b9e"
      },
      "outputs": [
        {
          "name": "stdout",
          "output_type": "stream",
          "text": [
            "Number of kinks: 6\n"
          ]
        }
      ],
      "source": [
        "print(\"Number of kinks: \" + str(np.sum(net.predict.weight.data.numpy()!=0)))"
      ]
    }
  ],
  "metadata": {
    "colab": {
      "provenance": []
    },
    "kernelspec": {
      "display_name": "Python 3 (ipykernel)",
      "language": "python",
      "name": "python3"
    },
    "language_info": {
      "codemirror_mode": {
        "name": "ipython",
        "version": 3
      },
      "file_extension": ".py",
      "mimetype": "text/x-python",
      "name": "python",
      "nbconvert_exporter": "python",
      "pygments_lexer": "ipython3",
      "version": "3.10.2"
    }
  },
  "nbformat": 4,
  "nbformat_minor": 5
}
